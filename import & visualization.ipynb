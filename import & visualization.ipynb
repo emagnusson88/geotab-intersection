{
 "cells": [
  {
   "cell_type": "markdown",
   "metadata": {},
   "source": [
    "# Import & summarize data"
   ]
  },
  {
   "cell_type": "code",
   "execution_count": 1,
   "metadata": {},
   "outputs": [],
   "source": [
    "import pandas as pd\n",
    "import numpy as np\n",
    "# pd.set_option('display.max_rows', 500)\n",
    "pd.set_option('display.max_columns', 500)\n",
    "# pd.set_option('display.width', 1000)"
   ]
  },
  {
   "cell_type": "code",
   "execution_count": 2,
   "metadata": {},
   "outputs": [],
   "source": [
    "train = pd.read_csv('../geotab-data/train.csv')\n",
    "test = pd.read_csv('../geotab-data/test.csv')"
   ]
  },
  {
   "cell_type": "code",
   "execution_count": 53,
   "metadata": {},
   "outputs": [
    {
     "name": "stdout",
     "output_type": "stream",
     "text": [
      "Train dataset shape: (857409, 28)\n",
      "Test dataset shape:  (1920335, 13)\n"
     ]
    }
   ],
   "source": [
    "print(\"Train dataset shape: \"+ str(train.shape))\n",
    "print(\"Test dataset shape:  \"+ str(test.shape))"
   ]
  },
  {
   "cell_type": "code",
   "execution_count": 13,
   "metadata": {},
   "outputs": [],
   "source": [
    "#below I loop through columsn and get distinct values within each column for both the train and test sets\n",
    "cols = list(train.columns)\n",
    "info = []\n",
    "for x in cols:\n",
    "    distinct = len(train[x].drop_duplicates())\n",
    "    d_type = type(train[x][0])\n",
    "    info.append([distinct, d_type])\n",
    "train_info = pd.DataFrame(dict(zip(cols,info)), index=['distinct values', 'type']).T.reset_index() \n",
    "cols = list(test.columns)\n",
    "info = []\n",
    "for x in cols:\n",
    "    distinct = len(test[x].drop_duplicates())\n",
    "    d_type = type(test[x][0])\n",
    "    info.append([distinct, d_type])\n",
    "test_info = pd.DataFrame(dict(zip(cols,info)), index=['distinct values', 'type']).T.reset_index() "
   ]
  },
  {
   "cell_type": "code",
   "execution_count": 51,
   "metadata": {},
   "outputs": [
    {
     "data": {
      "text/html": [
       "<div>\n",
       "<style scoped>\n",
       "    .dataframe tbody tr th:only-of-type {\n",
       "        vertical-align: middle;\n",
       "    }\n",
       "\n",
       "    .dataframe tbody tr th {\n",
       "        vertical-align: top;\n",
       "    }\n",
       "\n",
       "    .dataframe thead th {\n",
       "        text-align: right;\n",
       "    }\n",
       "</style>\n",
       "<table border=\"1\" class=\"dataframe\">\n",
       "  <thead>\n",
       "    <tr style=\"text-align: right;\">\n",
       "      <th></th>\n",
       "      <th>column</th>\n",
       "      <th>distinct values train</th>\n",
       "      <th>distinct values test</th>\n",
       "      <th>diff</th>\n",
       "      <th>type</th>\n",
       "    </tr>\n",
       "  </thead>\n",
       "  <tbody>\n",
       "    <tr>\n",
       "      <td>0</td>\n",
       "      <td>RowId</td>\n",
       "      <td>857409</td>\n",
       "      <td>1920335</td>\n",
       "      <td>-1062926</td>\n",
       "      <td>&lt;class 'numpy.int64'&gt;</td>\n",
       "    </tr>\n",
       "    <tr>\n",
       "      <td>1</td>\n",
       "      <td>IntersectionId</td>\n",
       "      <td>2539</td>\n",
       "      <td>2768</td>\n",
       "      <td>-229</td>\n",
       "      <td>&lt;class 'numpy.int64'&gt;</td>\n",
       "    </tr>\n",
       "    <tr>\n",
       "      <td>2</td>\n",
       "      <td>Latitude</td>\n",
       "      <td>4505</td>\n",
       "      <td>5613</td>\n",
       "      <td>-1108</td>\n",
       "      <td>&lt;class 'numpy.float64'&gt;</td>\n",
       "    </tr>\n",
       "    <tr>\n",
       "      <td>3</td>\n",
       "      <td>Longitude</td>\n",
       "      <td>4541</td>\n",
       "      <td>5614</td>\n",
       "      <td>-1073</td>\n",
       "      <td>&lt;class 'numpy.float64'&gt;</td>\n",
       "    </tr>\n",
       "    <tr>\n",
       "      <td>4</td>\n",
       "      <td>EntryStreetName</td>\n",
       "      <td>1708</td>\n",
       "      <td>2137</td>\n",
       "      <td>-429</td>\n",
       "      <td>&lt;class 'str'&gt;</td>\n",
       "    </tr>\n",
       "    <tr>\n",
       "      <td>5</td>\n",
       "      <td>ExitStreetName</td>\n",
       "      <td>1694</td>\n",
       "      <td>2118</td>\n",
       "      <td>-424</td>\n",
       "      <td>&lt;class 'str'&gt;</td>\n",
       "    </tr>\n",
       "    <tr>\n",
       "      <td>6</td>\n",
       "      <td>EntryHeading</td>\n",
       "      <td>8</td>\n",
       "      <td>8</td>\n",
       "      <td>0</td>\n",
       "      <td>&lt;class 'str'&gt;</td>\n",
       "    </tr>\n",
       "    <tr>\n",
       "      <td>7</td>\n",
       "      <td>ExitHeading</td>\n",
       "      <td>8</td>\n",
       "      <td>8</td>\n",
       "      <td>0</td>\n",
       "      <td>&lt;class 'str'&gt;</td>\n",
       "    </tr>\n",
       "    <tr>\n",
       "      <td>8</td>\n",
       "      <td>Hour</td>\n",
       "      <td>24</td>\n",
       "      <td>24</td>\n",
       "      <td>0</td>\n",
       "      <td>&lt;class 'numpy.int64'&gt;</td>\n",
       "    </tr>\n",
       "    <tr>\n",
       "      <td>9</td>\n",
       "      <td>Weekend</td>\n",
       "      <td>2</td>\n",
       "      <td>2</td>\n",
       "      <td>0</td>\n",
       "      <td>&lt;class 'numpy.int64'&gt;</td>\n",
       "    </tr>\n",
       "    <tr>\n",
       "      <td>10</td>\n",
       "      <td>Month</td>\n",
       "      <td>9</td>\n",
       "      <td>9</td>\n",
       "      <td>0</td>\n",
       "      <td>&lt;class 'numpy.int64'&gt;</td>\n",
       "    </tr>\n",
       "    <tr>\n",
       "      <td>11</td>\n",
       "      <td>Path</td>\n",
       "      <td>15111</td>\n",
       "      <td>19855</td>\n",
       "      <td>-4744</td>\n",
       "      <td>&lt;class 'str'&gt;</td>\n",
       "    </tr>\n",
       "    <tr>\n",
       "      <td>12</td>\n",
       "      <td>City</td>\n",
       "      <td>4</td>\n",
       "      <td>4</td>\n",
       "      <td>0</td>\n",
       "      <td>&lt;class 'str'&gt;</td>\n",
       "    </tr>\n",
       "  </tbody>\n",
       "</table>\n",
       "</div>"
      ],
      "text/plain": [
       "             column distinct values train distinct values test      diff  \\\n",
       "0             RowId                857409              1920335  -1062926   \n",
       "1    IntersectionId                  2539                 2768      -229   \n",
       "2          Latitude                  4505                 5613     -1108   \n",
       "3         Longitude                  4541                 5614     -1073   \n",
       "4   EntryStreetName                  1708                 2137      -429   \n",
       "5    ExitStreetName                  1694                 2118      -424   \n",
       "6      EntryHeading                     8                    8         0   \n",
       "7       ExitHeading                     8                    8         0   \n",
       "8              Hour                    24                   24         0   \n",
       "9           Weekend                     2                    2         0   \n",
       "10            Month                     9                    9         0   \n",
       "11             Path                 15111                19855     -4744   \n",
       "12             City                     4                    4         0   \n",
       "\n",
       "                       type  \n",
       "0     <class 'numpy.int64'>  \n",
       "1     <class 'numpy.int64'>  \n",
       "2   <class 'numpy.float64'>  \n",
       "3   <class 'numpy.float64'>  \n",
       "4             <class 'str'>  \n",
       "5             <class 'str'>  \n",
       "6             <class 'str'>  \n",
       "7             <class 'str'>  \n",
       "8     <class 'numpy.int64'>  \n",
       "9     <class 'numpy.int64'>  \n",
       "10    <class 'numpy.int64'>  \n",
       "11            <class 'str'>  \n",
       "12            <class 'str'>  "
      ]
     },
     "execution_count": 51,
     "metadata": {},
     "output_type": "execute_result"
    }
   ],
   "source": [
    "#here I merge the dataframe and do an inner join to drop the columns not in test (will analyze seperately)\n",
    "trainvtest = pd.merge(train_info, test_info, on='index', how='inner', suffixes=(' train', ' test'))\n",
    "trainvtest = trainvtest.drop('type train', axis=1) #drop because types are the same\n",
    "\n",
    "#get the difference between distinct values, a lot more in the test set\n",
    "trainvtest['diff'] = trainvtest['distinct values train'] - trainvtest['distinct values test']\n",
    "trainvtest.columns = ['column', 'distinct values train', 'distinct values test', 'type', 'diff']\n",
    "trainvtest[['column', 'distinct values train', 'distinct values test','diff', 'type']]"
   ]
  },
  {
   "cell_type": "code",
   "execution_count": 57,
   "metadata": {},
   "outputs": [
    {
     "data": {
      "text/plain": [
       "RangeIndex(start=0, stop=28, step=1)"
      ]
     },
     "execution_count": 57,
     "metadata": {},
     "output_type": "execute_result"
    }
   ],
   "source": [
    "#time values are all the columns present in the training set but not the test set (ones we are trying to predict I presume)\n",
    "time_values = train.iloc[:,12:-1]\n",
    "train_info.iloc[12:-1]\n",
    "train_info[train_info.index.isin(list(time_values.columns))]\n",
    "train_info.index"
   ]
  },
  {
   "cell_type": "code",
   "execution_count": 5,
   "metadata": {},
   "outputs": [],
   "source": [
    "# DistanceToFirstStop is how far before the intersection the truck stopped for the first time and\n",
    "# TimeFromFirstStop is how long it took from that point to cross the intersection.\n",
    "# I think that there should be a relation:\n",
    "# TimeFromFirstStop=TotalTimeStopped + something like TotalDrivingTimeBetweenStops\n",
    "# and we should expect that always:\n",
    "# TimeFromFirstStop>TotalTimeStopped"
   ]
  },
  {
   "cell_type": "code",
   "execution_count": 17,
   "metadata": {},
   "outputs": [],
   "source": [
    "timefromstop = train.iloc[:,12:17]\n",
    "totaltimestopped = train.iloc[:,17:22]\n",
    "distancefromstop = train.iloc[:,22:27]"
   ]
  },
  {
   "cell_type": "code",
   "execution_count": 62,
   "metadata": {},
   "outputs": [
    {
     "data": {
      "text/plain": [
       "112     3422\n",
       "270     2839\n",
       "331     2770\n",
       "335     2677\n",
       "371     2366\n",
       "        ... \n",
       "1579       1\n",
       "2091       1\n",
       "2850       1\n",
       "2243       1\n",
       "2776       1\n",
       "Name: IntersectionId, Length: 2539, dtype: int64"
      ]
     },
     "execution_count": 62,
     "metadata": {},
     "output_type": "execute_result"
    }
   ],
   "source": [
    "train.IntersectionId.value_counts()"
   ]
  },
  {
   "cell_type": "code",
   "execution_count": null,
   "metadata": {},
   "outputs": [],
   "source": []
  }
 ],
 "metadata": {
  "kernelspec": {
   "display_name": "Python 3",
   "language": "python",
   "name": "python3"
  },
  "language_info": {
   "codemirror_mode": {
    "name": "ipython",
    "version": 3
   },
   "file_extension": ".py",
   "mimetype": "text/x-python",
   "name": "python",
   "nbconvert_exporter": "python",
   "pygments_lexer": "ipython3",
   "version": "3.7.4"
  }
 },
 "nbformat": 4,
 "nbformat_minor": 4
}
