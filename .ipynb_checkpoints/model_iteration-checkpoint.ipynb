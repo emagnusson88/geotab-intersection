{
 "cells": [
  {
   "cell_type": "markdown",
   "metadata": {},
   "source": [
    "<h1>Feature Engineering and Predictions</h1>"
   ]
  },
  {
   "cell_type": "markdown",
   "metadata": {},
   "source": [
    "<h3>Focus on feature selection, processing speed, model iteration</h3>\n",
    "<ul>\n",
    "    <li>Will create different training sets w/ reature mixes</li>\n",
    "    <li>PyTorch, Numba, Parralization, and Dask for processing speed</li>\n",
    "    <li>Processing tutorial: <a href = 'https://towardsdatascience.com/speed-up-your-algorithms-part-3-parallelization-4d95c0888748'>speeding up your algorithms</a></li>\n",
    "    <li>Split train into 3 train/test splits, run models and compare results before running on final test</li>\n",
    "</ul>"
   ]
  },
  {
   "cell_type": "code",
   "execution_count": 1,
   "metadata": {},
   "outputs": [],
   "source": [
    "from importlib import reload #for changes in helpers\n",
    "\n",
    "import pandas as pd\n",
    "import numpy as np\n",
    "import scipy.stats\n",
    "\n",
    "pd.set_option('display.max_columns', 500)\n",
    "pd.set_option('display.width', 1000)\n",
    "\n",
    "import matplotlib.pyplot as plt\n",
    "import seaborn as sns\n",
    "\n",
    "\n",
    "from sklearn import preprocessing\n",
    "from sklearn.decomposition import PCA\n",
    "from sklearn.cluster import KMeans\n",
    "from sklearn.preprocessing import LabelEncoder\n",
    "\n",
    "from sklearn.model_selection import train_test_split\n",
    "from sklearn.linear_model import LinearRegression\n",
    "from sklearn.ensemble import RandomForestRegressor\n",
    "from sklearn.metrics import mean_squared_error\n",
    "\n",
    "import helpers\n",
    "reload(helpers)\n",
    "\n",
    "sns.set()"
   ]
  },
  {
   "cell_type": "code",
   "execution_count": 2,
   "metadata": {},
   "outputs": [],
   "source": [
    "train = pd.read_csv('../geotab-data/train.csv')\n",
    "test = pd.read_csv('../geotab-data/test.csv')"
   ]
  },
  {
   "cell_type": "markdown",
   "metadata": {},
   "source": [
    "<h1>Target PCA</h1>\n",
    "\n",
    "<ul>\n",
    "    <li>Light summary eda</li>\n",
    "    <li>Min max scaler and target PCA</li>\n",
    "    <li>Not sure if this is necessary for purpose of this notebook</li>\n",
    "    </ul>"
   ]
  },
  {
   "cell_type": "code",
   "execution_count": 3,
   "metadata": {},
   "outputs": [
    {
     "name": "stdout",
     "output_type": "stream",
     "text": [
      "Target Summaries:\n"
     ]
    },
    {
     "data": {
      "text/html": [
       "<div>\n",
       "<style scoped>\n",
       "    .dataframe tbody tr th:only-of-type {\n",
       "        vertical-align: middle;\n",
       "    }\n",
       "\n",
       "    .dataframe tbody tr th {\n",
       "        vertical-align: top;\n",
       "    }\n",
       "\n",
       "    .dataframe thead th {\n",
       "        text-align: right;\n",
       "    }\n",
       "</style>\n",
       "<table border=\"1\" class=\"dataframe\">\n",
       "  <thead>\n",
       "    <tr style=\"text-align: right;\">\n",
       "      <th></th>\n",
       "      <th>name</th>\n",
       "      <th>dtypes</th>\n",
       "      <th>missing</th>\n",
       "      <th>unique</th>\n",
       "      <th>first_val</th>\n",
       "      <th>last_val</th>\n",
       "      <th>max</th>\n",
       "      <th>mean</th>\n",
       "      <th>median</th>\n",
       "      <th>stdev</th>\n",
       "      <th>entropy</th>\n",
       "    </tr>\n",
       "  </thead>\n",
       "  <tbody>\n",
       "    <tr>\n",
       "      <td>0</td>\n",
       "      <td>TotalTimeStopped_p20</td>\n",
       "      <td>int64</td>\n",
       "      <td>0</td>\n",
       "      <td>172</td>\n",
       "      <td>0.0</td>\n",
       "      <td>0.0</td>\n",
       "      <td>273.0</td>\n",
       "      <td>1.731272</td>\n",
       "      <td>0.0</td>\n",
       "      <td>7.080017</td>\n",
       "      <td>0.92</td>\n",
       "    </tr>\n",
       "    <tr>\n",
       "      <td>1</td>\n",
       "      <td>TotalTimeStopped_p50</td>\n",
       "      <td>int64</td>\n",
       "      <td>0</td>\n",
       "      <td>264</td>\n",
       "      <td>0.0</td>\n",
       "      <td>0.0</td>\n",
       "      <td>343.0</td>\n",
       "      <td>7.681874</td>\n",
       "      <td>0.0</td>\n",
       "      <td>15.553418</td>\n",
       "      <td>2.70</td>\n",
       "    </tr>\n",
       "    <tr>\n",
       "      <td>2</td>\n",
       "      <td>TotalTimeStopped_p80</td>\n",
       "      <td>int64</td>\n",
       "      <td>0</td>\n",
       "      <td>403</td>\n",
       "      <td>0.0</td>\n",
       "      <td>0.0</td>\n",
       "      <td>689.0</td>\n",
       "      <td>22.948071</td>\n",
       "      <td>16.0</td>\n",
       "      <td>28.118134</td>\n",
       "      <td>5.06</td>\n",
       "    </tr>\n",
       "    <tr>\n",
       "      <td>3</td>\n",
       "      <td>DistanceToFirstStop_p20</td>\n",
       "      <td>float64</td>\n",
       "      <td>0</td>\n",
       "      <td>3479</td>\n",
       "      <td>0.0</td>\n",
       "      <td>0.0</td>\n",
       "      <td>1902.7</td>\n",
       "      <td>6.564450</td>\n",
       "      <td>0.0</td>\n",
       "      <td>28.003261</td>\n",
       "      <td>1.35</td>\n",
       "    </tr>\n",
       "    <tr>\n",
       "      <td>4</td>\n",
       "      <td>DistanceToFirstStop_p50</td>\n",
       "      <td>float64</td>\n",
       "      <td>0</td>\n",
       "      <td>7483</td>\n",
       "      <td>0.0</td>\n",
       "      <td>0.0</td>\n",
       "      <td>3099.5</td>\n",
       "      <td>28.255852</td>\n",
       "      <td>0.0</td>\n",
       "      <td>71.720090</td>\n",
       "      <td>4.16</td>\n",
       "    </tr>\n",
       "    <tr>\n",
       "      <td>5</td>\n",
       "      <td>DistanceToFirstStop_p80</td>\n",
       "      <td>float64</td>\n",
       "      <td>0</td>\n",
       "      <td>13267</td>\n",
       "      <td>0.0</td>\n",
       "      <td>0.0</td>\n",
       "      <td>4064.3</td>\n",
       "      <td>81.922639</td>\n",
       "      <td>60.4</td>\n",
       "      <td>152.682760</td>\n",
       "      <td>8.10</td>\n",
       "    </tr>\n",
       "  </tbody>\n",
       "</table>\n",
       "</div>"
      ],
      "text/plain": [
       "                      name   dtypes  missing  unique  first_val  last_val     max       mean  median       stdev  entropy\n",
       "0     TotalTimeStopped_p20    int64        0     172        0.0       0.0   273.0   1.731272     0.0    7.080017     0.92\n",
       "1     TotalTimeStopped_p50    int64        0     264        0.0       0.0   343.0   7.681874     0.0   15.553418     2.70\n",
       "2     TotalTimeStopped_p80    int64        0     403        0.0       0.0   689.0  22.948071    16.0   28.118134     5.06\n",
       "3  DistanceToFirstStop_p20  float64        0    3479        0.0       0.0  1902.7   6.564450     0.0   28.003261     1.35\n",
       "4  DistanceToFirstStop_p50  float64        0    7483        0.0       0.0  3099.5  28.255852     0.0   71.720090     4.16\n",
       "5  DistanceToFirstStop_p80  float64        0   13267        0.0       0.0  4064.3  81.922639    60.4  152.682760     8.10"
      ]
     },
     "metadata": {},
     "output_type": "display_data"
    }
   ],
   "source": [
    "targets = train.iloc[:,12:27]\n",
    "\n",
    "#targets to predict\n",
    "total_time = targets[['TotalTimeStopped_p20','TotalTimeStopped_p50', 'TotalTimeStopped_p80']]\n",
    "distance_to_first = targets[['DistanceToFirstStop_p20','DistanceToFirstStop_p50','DistanceToFirstStop_p80']]\n",
    "target_cols = list(total_time.columns) + list(distance_to_first.columns)\n",
    "p_targets = targets[target_cols]\n",
    "\n",
    "#optional targets\n",
    "time_from_first = targets[['TimeFromFirstStop_p20','TimeFromFirstStop_p50','TimeFromFirstStop_p80']]\n",
    "\n",
    "print('Target Summaries:')\n",
    "display(helpers.summarize(p_targets, True))"
   ]
  },
  {
   "cell_type": "code",
   "execution_count": 4,
   "metadata": {},
   "outputs": [
    {
     "data": {
      "text/plain": [
       "array([0.66396904, 0.17536384, 0.07856878])"
      ]
     },
     "execution_count": 4,
     "metadata": {},
     "output_type": "execute_result"
    }
   ],
   "source": [
    "#scale targets w/ a min max scalers and append to train\n",
    "for col in target_cols:\n",
    "    train[col+str(\"_minmax\")] = (preprocessing.minmax_scale(train[col], feature_range=(0,1)))\n",
    "    \n",
    "min_max_cols = ['TotalTimeStopped_p20_minmax', 'TotalTimeStopped_p50_minmax',\n",
    "                'TotalTimeStopped_p80_minmax', 'DistanceToFirstStop_p20_minmax',\n",
    "                'DistanceToFirstStop_p50_minmax', 'DistanceToFirstStop_p80_minmax']\n",
    "\n",
    "pca = PCA(n_components=3, random_state=5)\n",
    "\n",
    "principalComponents = pca.fit_transform(train[min_max_cols])\n",
    "principalDf = pd.DataFrame(principalComponents)\n",
    "pca.explained_variance_ratio_"
   ]
  },
  {
   "cell_type": "markdown",
   "metadata": {},
   "source": [
    "<h1>Feature Engineering</h1>"
   ]
  },
  {
   "cell_type": "markdown",
   "metadata": {},
   "source": [
    "Time and day features"
   ]
  },
  {
   "cell_type": "code",
   "execution_count": 5,
   "metadata": {},
   "outputs": [],
   "source": [
    "#making hour columns cyclical\n",
    "train = helpers.date_cyc_enc(train, 'Hour', 24)\n",
    "test = helpers.date_cyc_enc(test, 'Hour', 24) \n",
    "\n",
    "#encoding time of day\n",
    "train['is_day'] = train['Hour'].apply(lambda x: 1 if 7 < x < 18 else 0)\n",
    "test['is_day'] = test['Hour'].apply(lambda x: 1 if 7 < x < 18 else 0)\n",
    "\n",
    "train['is_morning'] = train['Hour'].apply(lambda x: 1 if 6 < x < 10 else 0)\n",
    "test['is_morning'] = test['Hour'].apply(lambda x: 1 if 6 < x < 10 else 0)\n",
    "\n",
    "train['is_night'] = train['Hour'].apply(lambda x: 1 if 17 < x < 20 else 0)\n",
    "test['is_night'] = test['Hour'].apply(lambda x: 1 if 17 < x < 20 else 0)\n",
    "\n",
    "#encoding weekend vs not weekend\n",
    "train['is_day_weekend'] = np.where((train['is_day'] == 1) & (train['Weekend'] == 1), 1,0)\n",
    "test['is_day_weekend'] = np.where((test['is_day'] == 1) & (train['Weekend'] == 1), 1,0)\n",
    "\n",
    "train['is_mor_weekend'] = np.where((train['is_morning'] == 1) & (train['Weekend'] == 1), 1,0)\n",
    "test['is_mor_weekend'] = np.where((test['is_morning'] == 1) & (train['Weekend'] == 1), 1,0)\n",
    "\n",
    "train['is_nig_weekend'] = np.where((train['is_night'] == 1) & (train['Weekend'] == 1), 1,0)\n",
    "test['is_nig_weekend'] = np.where((test['is_night'] == 1) & (train['Weekend'] == 1), 1,0)"
   ]
  },
  {
   "cell_type": "markdown",
   "metadata": {},
   "source": [
    "Location and direction features"
   ]
  },
  {
   "cell_type": "code",
   "execution_count": 6,
   "metadata": {},
   "outputs": [],
   "source": [
    "#intersection and city concat\n",
    "train[\"Intersec\"] = train[\"IntersectionId\"].astype(str) + train[\"City\"]\n",
    "test[\"Intersec\"] = test[\"IntersectionId\"].astype(str) + test[\"City\"]\n",
    "\n",
    "#make numerical and drop concat\n",
    "le = LabelEncoder()\n",
    "le.fit(pd.concat([train[\"Intersec\"],test[\"Intersec\"]]).drop_duplicates().values)\n",
    "train[\"Intersec\"] = le.transform(train[\"Intersec\"])\n",
    "test[\"Intersec\"] = le.transform(test[\"Intersec\"])\n",
    "\n",
    "train['EntryType'] = train['EntryStreetName'].apply(helpers.road_encode)\n",
    "train['ExitType'] = train['ExitStreetName'].apply(helpers.road_encode)\n",
    "test['EntryType'] = test['EntryStreetName'].apply(helpers.road_encode)\n",
    "test['ExitType'] = test['ExitStreetName'].apply(helpers.road_encode)\n",
    "\n",
    "#map directional encoding in in train and test\n",
    "train['EntryHeading'] = train['EntryHeading'].map(helpers.directions)\n",
    "train['ExitHeading'] = train['ExitHeading'].map(helpers.directions)\n",
    "test['EntryHeading'] = test['EntryHeading'].map(helpers.directions)\n",
    "test['ExitHeading'] = test['ExitHeading'].map(helpers.directions)\n",
    "\n",
    "#heading differences will tell us the degree at which you traveled, (0 degrees is straight, 180 u turn)\n",
    "train['diffHeading'] = train['EntryHeading']-train['ExitHeading']  \n",
    "test['diffHeading'] = test['EntryHeading']-test['ExitHeading'] \n",
    "\n",
    "#if you stay on the same street feature\n",
    "train[\"same_str\"] = (train[\"EntryStreetName\"] ==  train[\"ExitStreetName\"]).astype(int)\n",
    "test[\"same_str\"] = (test[\"EntryStreetName\"] ==  test[\"ExitStreetName\"]).astype(int)"
   ]
  },
  {
   "cell_type": "markdown",
   "metadata": {},
   "source": [
    "Secondary features, monthly rainfall by city "
   ]
  },
  {
   "cell_type": "code",
   "execution_count": 7,
   "metadata": {},
   "outputs": [],
   "source": [
    "# Concatenating the city and month into one variable\n",
    "train['city_month'] = train[\"City\"] + train[\"Month\"].astype(str)\n",
    "test['city_month'] = test[\"City\"] + test[\"Month\"].astype(str)\n",
    "\n",
    "# Creating a new column by mapping the city_month variable to it's corresponding average monthly rainfall\n",
    "train[\"average_rainfall\"] = train['city_month'].map(helpers.monthly_rainfall)\n",
    "test[\"average_rainfall\"] = test['city_month'].map(helpers.monthly_rainfall)"
   ]
  },
  {
   "cell_type": "markdown",
   "metadata": {},
   "source": [
    "Replace city w/ dummy variables, can't run cells above after this"
   ]
  },
  {
   "cell_type": "code",
   "execution_count": 8,
   "metadata": {},
   "outputs": [],
   "source": [
    "#dummy variables for city, drops city\n",
    "try:\n",
    "    train = pd.get_dummies(train, columns=['City' ],prefix=['City'], drop_first=False)\n",
    "    test = pd.get_dummies(test, columns=['City' ],prefix=['City'], drop_first=False)\n",
    "except KeyError:\n",
    "    pass"
   ]
  },
  {
   "cell_type": "markdown",
   "metadata": {},
   "source": [
    "Scale lat and longitude"
   ]
  },
  {
   "cell_type": "code",
   "execution_count": 9,
   "metadata": {},
   "outputs": [],
   "source": [
    "#wonder if this would be different with min max\n",
    "scaler = preprocessing.StandardScaler()\n",
    "for col in ['Latitude','Longitude']:\n",
    "    scaler.fit(train[col].values.reshape(-1, 1))\n",
    "    train[col] = scaler.transform(train[col].values.reshape(-1, 1))\n",
    "    test[col] = scaler.transform(test[col].values.reshape(-1, 1))"
   ]
  },
  {
   "cell_type": "code",
   "execution_count": 10,
   "metadata": {},
   "outputs": [],
   "source": [
    "train.drop(['RowId', 'Path','EntryStreetName','ExitStreetName'],axis=1, inplace=True)\n",
    "test.drop(['RowId', 'Path','EntryStreetName','ExitStreetName'],axis=1, inplace=True)"
   ]
  },
  {
   "cell_type": "code",
   "execution_count": 11,
   "metadata": {},
   "outputs": [],
   "source": [
    "final_features = ['IntersectionId', 'Latitude', 'Longitude', 'EntryHeading',\n",
    "                    'ExitHeading', 'Hour', 'Weekend', 'Month',\n",
    "                    'is_morning', 'is_night', 'is_day_weekend', 'is_mor_weekend',\n",
    "                    'is_nig_weekend', \n",
    "                    #'Hour', \n",
    "                    'Hour_sin', \n",
    "                    'Hour_cos', \n",
    "                    'same_str', 'Intersec', 'EntryType',\n",
    "                    'ExitType', 'diffHeading', 'average_rainfall', 'is_day',\n",
    "                    'City_Boston', 'City_Chicago', 'City_Philadelphia', \n",
    "                    'City_Atlanta']"
   ]
  },
  {
   "cell_type": "markdown",
   "metadata": {},
   "source": [
    "<h1>Model building</h1>\n",
    "Useful Vaiables:\n",
    "<ul>\n",
    "    <li>final_features - list final set of features for prediction</li>\n",
    "    <li>target_cols - list of targets to predict</li>\n",
    "    <li>train - full train data set with derived features</li>\n",
    "    <li>test - full test data set with derived features</li>\n",
    "</ul>"
   ]
  },
  {
   "cell_type": "code",
   "execution_count": 12,
   "metadata": {},
   "outputs": [
    {
     "name": "stdout",
     "output_type": "stream",
     "text": [
      "Train dataset shape: (857409, 48)\n",
      "Test dataset shape:  (1920335, 27)\n"
     ]
    }
   ],
   "source": [
    "print(\"Train dataset shape: \"+ str(train.shape))\n",
    "print(\"Test dataset shape:  \"+ str(test.shape))"
   ]
  },
  {
   "cell_type": "code",
   "execution_count": 15,
   "metadata": {},
   "outputs": [
    {
     "name": "stderr",
     "output_type": "stream",
     "text": [
      "/Users/devonnavon/Code/kaggle/geotab-intersection/helpers.py:107: SettingWithCopyWarning: \n",
      "A value is trying to be set on a copy of a slice from a DataFrame.\n",
      "Try using .loc[row_indexer,col_indexer] = value instead\n",
      "\n",
      "See the caveats in the documentation: http://pandas.pydata.org/pandas-docs/stable/user_guide/indexing.html#returning-a-view-versus-a-copy\n",
      "  df[col] = df[col].astype(np.int16)\n",
      "/Users/devonnavon/Code/kaggle/geotab-intersection/helpers.py:119: SettingWithCopyWarning: \n",
      "A value is trying to be set on a copy of a slice from a DataFrame.\n",
      "Try using .loc[row_indexer,col_indexer] = value instead\n",
      "\n",
      "See the caveats in the documentation: http://pandas.pydata.org/pandas-docs/stable/user_guide/indexing.html#returning-a-view-versus-a-copy\n",
      "  df[col] = df[col].astype(np.float64)\n",
      "/Users/devonnavon/Code/kaggle/geotab-intersection/helpers.py:105: SettingWithCopyWarning: \n",
      "A value is trying to be set on a copy of a slice from a DataFrame.\n",
      "Try using .loc[row_indexer,col_indexer] = value instead\n",
      "\n",
      "See the caveats in the documentation: http://pandas.pydata.org/pandas-docs/stable/user_guide/indexing.html#returning-a-view-versus-a-copy\n",
      "  df[col] = df[col].astype(np.int8)\n"
     ]
    },
    {
     "name": "stdout",
     "output_type": "stream",
     "text": [
      "Mem. usage decreased to 68.69 Mb (53.3% reduction)\n",
      "Mem. usage decreased to 153.84 Mb (53.3% reduction)\n"
     ]
    }
   ],
   "source": [
    "#X and y for train set\n",
    "X = train[final_features]\n",
    "y = train[target_cols]\n",
    "\n",
    "#only run this at the end, to get final prediction\n",
    "X_final = test[final_features]\n",
    "\n",
    "#reduce mem usage on feature sets (X)\n",
    "X = helpers.reduce_mem_usage(X)\n",
    "X_final = helpers.reduce_mem_usage(X_final)"
   ]
  },
  {
   "cell_type": "markdown",
   "metadata": {},
   "source": [
    "<h3>Model iteration and validation</h3>\n",
    "<ul>\n",
    "    <li>Below we split original train into 2 train/tests using different random seeds</li>\n",
    "    <li>We do so to test accuracy of model before crating final sumbission, which we can't pre score</li>\n",
    "</ul>"
   ]
  },
  {
   "cell_type": "code",
   "execution_count": 16,
   "metadata": {},
   "outputs": [],
   "source": [
    "#75% to train and 25% to test\n",
    "validation_size = 0.25\n",
    "\n",
    "X_train_1, X_validation_1, Y_train_1, Y_validation_1 = train_test_split(X, y, test_size=validation_size, random_state=7)\n",
    "X_train_2, X_validation_2, Y_train_2, Y_validation_2 = train_test_split(X, y, test_size=validation_size, random_state=3)"
   ]
  },
  {
   "cell_type": "code",
   "execution_count": 17,
   "metadata": {},
   "outputs": [],
   "source": [
    "#to test speed, we will run prediciton on a single y split from our original train data\n",
    "# y1 = train['TotalTimeStopped_p20']\n",
    "# y2 = train['TotalTimeStopped_p50']\n",
    "y3 = train['TotalTimeStopped_p80']\n",
    "# y4 = train['DistanceToFirstStop_p20']\n",
    "# y5 = train['DistanceToFirstStop_p50']\n",
    "# y6 = train['DistanceToFirstStop_p80']\n",
    "\n",
    "X_train_speed, X_validation_speed, Y_train_speed, Y_validation_speed = train_test_split(X, y3, test_size=validation_size, random_state=12)"
   ]
  },
  {
   "cell_type": "code",
   "execution_count": 30,
   "metadata": {},
   "outputs": [
    {
     "name": "stdout",
     "output_type": "stream",
     "text": [
      "CPU times: user 24 µs, sys: 1e+03 ns, total: 25 µs\n",
      "Wall time: 27.9 µs\n"
     ]
    }
   ],
   "source": [
    "%%time\n",
    "#model\n",
    "lr = RandomForestRegressor(n_estimators=10,min_samples_split=3)"
   ]
  },
  {
   "cell_type": "code",
   "execution_count": 31,
   "metadata": {},
   "outputs": [
    {
     "name": "stdout",
     "output_type": "stream",
     "text": [
      "CPU times: user 51.9 s, sys: 386 ms, total: 52.3 s\n",
      "Wall time: 51.4 s\n"
     ]
    },
    {
     "data": {
      "text/plain": [
       "RandomForestRegressor(bootstrap=True, criterion='mse', max_depth=None,\n",
       "                      max_features='auto', max_leaf_nodes=None,\n",
       "                      min_impurity_decrease=0.0, min_impurity_split=None,\n",
       "                      min_samples_leaf=1, min_samples_split=3,\n",
       "                      min_weight_fraction_leaf=0.0, n_estimators=10,\n",
       "                      n_jobs=None, oob_score=False, random_state=None,\n",
       "                      verbose=0, warm_start=False)"
      ]
     },
     "execution_count": 31,
     "metadata": {},
     "output_type": "execute_result"
    }
   ],
   "source": [
    "%%time\n",
    "lr.fit(X_train_speed, Y_train_speed)"
   ]
  },
  {
   "cell_type": "code",
   "execution_count": 32,
   "metadata": {},
   "outputs": [
    {
     "name": "stdout",
     "output_type": "stream",
     "text": [
      "CPU times: user 1.11 s, sys: 30.7 ms, total: 1.14 s\n",
      "Wall time: 1.14 s\n"
     ]
    }
   ],
   "source": [
    "%%time\n",
    "preds_1 = lr.predict(X_validation_speed)"
   ]
  },
  {
   "cell_type": "code",
   "execution_count": 33,
   "metadata": {},
   "outputs": [
    {
     "data": {
      "text/plain": [
       "17.65346223128817"
      ]
     },
     "execution_count": 33,
     "metadata": {},
     "output_type": "execute_result"
    }
   ],
   "source": [
    "np.sqrt(mean_squared_error(preds_1, Y_validation_speed))"
   ]
  },
  {
   "cell_type": "code",
   "execution_count": null,
   "metadata": {},
   "outputs": [],
   "source": [
    "\n"
   ]
  },
  {
   "cell_type": "code",
   "execution_count": 41,
   "metadata": {},
   "outputs": [
    {
     "ename": "ModuleNotFoundError",
     "evalue": "No module named 'distributed.joblib'",
     "output_type": "error",
     "traceback": [
      "\u001b[0;31m---------------------------------------------------------------------------\u001b[0m",
      "\u001b[0;31mModuleNotFoundError\u001b[0m                       Traceback (most recent call last)",
      "\u001b[0;32m<timed exec>\u001b[0m in \u001b[0;36m<module>\u001b[0;34m\u001b[0m\n",
      "\u001b[0;32m~/anaconda3/lib/python3.7/site-packages/dask_ml/joblib.py\u001b[0m in \u001b[0;36m<module>\u001b[0;34m\u001b[0m\n\u001b[0;32m----> 1\u001b[0;31m \u001b[0;32mimport\u001b[0m \u001b[0mdistributed\u001b[0m\u001b[0;34m.\u001b[0m\u001b[0mjoblib\u001b[0m  \u001b[0;31m# noqa\u001b[0m\u001b[0;34m\u001b[0m\u001b[0;34m\u001b[0m\u001b[0m\n\u001b[0m",
      "\u001b[0;31mModuleNotFoundError\u001b[0m: No module named 'distributed.joblib'"
     ]
    }
   ],
   "source": [
    "%%time\n",
    "import dask_ml.joblib\n",
    "from sklearn.externals import joblib\n",
    "import distributed\n",
    "\n",
    "client = Client()\n",
    "with joblib.parallel_backend('dask'):\n",
    "    lr.fit(X_train_speed, Y_train_speed)\n",
    "    preds_1 = lr.predict(X_validation_speed)"
   ]
  },
  {
   "cell_type": "code",
   "execution_count": 38,
   "metadata": {},
   "outputs": [
    {
     "ename": "ModuleNotFoundError",
     "evalue": "No module named 'distributed.joblib'",
     "output_type": "error",
     "traceback": [
      "\u001b[0;31m---------------------------------------------------------------------------\u001b[0m",
      "\u001b[0;31mModuleNotFoundError\u001b[0m                       Traceback (most recent call last)",
      "\u001b[0;32m<ipython-input-38-f2ca14c97097>\u001b[0m in \u001b[0;36m<module>\u001b[0;34m\u001b[0m\n\u001b[0;32m----> 1\u001b[0;31m \u001b[0;32mimport\u001b[0m \u001b[0mdistributed\u001b[0m\u001b[0;34m.\u001b[0m\u001b[0mjoblib\u001b[0m\u001b[0;34m\u001b[0m\u001b[0;34m\u001b[0m\u001b[0m\n\u001b[0m",
      "\u001b[0;31mModuleNotFoundError\u001b[0m: No module named 'distributed.joblib'"
     ]
    }
   ],
   "source": [
    "import distributed.joblib"
   ]
  },
  {
   "cell_type": "code",
   "execution_count": 40,
   "metadata": {},
   "outputs": [
    {
     "name": "stdout",
     "output_type": "stream",
     "text": [
      "CPU times: user 54.1 s, sys: 532 ms, total: 54.6 s\n",
      "Wall time: 53.8 s\n"
     ]
    }
   ],
   "source": [
    "%%time\n",
    "from dask_ml.wrappers import ParallelPostFit\n",
    "el = ParallelPostFit(estimator=lr)\n",
    "el.fit(X_train_speed, Y_train_speed)\n",
    "preds = el.predict(X_validation_speed)"
   ]
  },
  {
   "cell_type": "code",
   "execution_count": 47,
   "metadata": {},
   "outputs": [],
   "source": [
    "importances = list(lr.feature_importances_)"
   ]
  },
  {
   "cell_type": "code",
   "execution_count": 56,
   "metadata": {},
   "outputs": [
    {
     "name": "stdout",
     "output_type": "stream",
     "text": [
      "Variable: Latitude             Importance: 0.16\n",
      "Variable: Longitude            Importance: 0.14\n",
      "Variable: IntersectionId       Importance: 0.1\n",
      "Variable: Intersec             Importance: 0.1\n",
      "Variable: EntryHeading         Importance: 0.05\n",
      "Variable: ExitHeading          Importance: 0.05\n",
      "Variable: Month                Importance: 0.05\n",
      "Variable: Hour_cos             Importance: 0.05\n",
      "Variable: same_str             Importance: 0.05\n",
      "Variable: average_rainfall     Importance: 0.05\n",
      "Variable: Hour_sin             Importance: 0.04\n",
      "Variable: diffHeading          Importance: 0.04\n",
      "Variable: Hour                 Importance: 0.03\n",
      "Variable: Weekend              Importance: 0.02\n",
      "Variable: EntryType            Importance: 0.02\n",
      "Variable: ExitType             Importance: 0.02\n",
      "Variable: City_Philadelphia    Importance: 0.01\n",
      "Variable: is_morning           Importance: 0.0\n",
      "Variable: is_night             Importance: 0.0\n",
      "Variable: is_day_weekend       Importance: 0.0\n",
      "Variable: is_mor_weekend       Importance: 0.0\n",
      "Variable: is_nig_weekend       Importance: 0.0\n",
      "Variable: is_day               Importance: 0.0\n",
      "Variable: City_Boston          Importance: 0.0\n",
      "Variable: City_Chicago         Importance: 0.0\n",
      "Variable: City_Atlanta         Importance: 0.0\n",
      "\n"
     ]
    }
   ],
   "source": [
    "# List of tuples with variable and importance\n",
    "feature_importances = [(feature, round(importance, 2)) for feature, importance in zip(final_features, importances)]\n",
    "# Sort the feature importances by most important first\n",
    "feature_importances = sorted(feature_importances, key = lambda x: x[1], reverse = True)\n",
    "# Print out the feature and importances \n",
    "[print('Variable: {:20} Importance: {}'.format(*pair)) for pair in feature_importances]\n",
    "print('')"
   ]
  },
  {
   "cell_type": "code",
   "execution_count": 52,
   "metadata": {},
   "outputs": [
    {
     "data": {
      "text/plain": [
       "Text(0.5, 1.0, 'Variable Importances')"
      ]
     },
     "execution_count": 52,
     "metadata": {},
     "output_type": "execute_result"
    },
    {
     "data": {
      "image/png": "[encoded data removed]",
      "text/plain": [
       "<Figure size 432x288 with 1 Axes>"
      ]
     },
     "metadata": {
      "needs_background": "light"
     },
     "output_type": "display_data"
    }
   ],
   "source": [
    "# list of x locations for plotting\n",
    "x_values = list(range(len(importances)))\n",
    "# Make a bar chart\n",
    "plt.bar(x_values, importances, orientation = 'vertical', color = 'r', edgecolor = 'k', linewidth = 1.2)\n",
    "# Tick labels for x axis\n",
    "plt.xticks(x_values, final_features, rotation='vertical')\n",
    "# Axis labels and title\n",
    "plt.ylabel('Importance'); plt.xlabel('Variable'); plt.title('Variable Importances')"
   ]
  },
  {
   "cell_type": "code",
   "execution_count": 53,
   "metadata": {},
   "outputs": [
    {
     "data": {
      "image/png": "[encoded data removed]",
      "text/plain": [
       "<Figure size 432x288 with 1 Axes>"
      ]
     },
     "metadata": {
      "needs_background": "light"
     },
     "output_type": "display_data"
    }
   ],
   "source": [
    "# List of features sorted from most to least important\n",
    "sorted_importances = [importance[1] for importance in feature_importances]\n",
    "sorted_features = [importance[0] for importance in feature_importances]\n",
    "# Cumulative importances\n",
    "cumulative_importances = np.cumsum(sorted_importances)\n",
    "# Make a line graph\n",
    "plt.plot(x_values, cumulative_importances, 'g-')\n",
    "# Draw line at 95% of importance retained\n",
    "plt.hlines(y = 0.95, xmin=0, xmax=len(sorted_importances), color = 'r', linestyles = 'dashed')\n",
    "# Format x ticks and labels\n",
    "plt.xticks(x_values, sorted_features, rotation = 'vertical')\n",
    "# Axis labels and title\n",
    "plt.xlabel('Variable'); plt.ylabel('Cumulative Importance'); plt.title('Cumulative Importances');"
   ]
  },
  {
   "cell_type": "code",
   "execution_count": null,
   "metadata": {},
   "outputs": [],
   "source": []
  }
 ],
 "metadata": {
  "kernelspec": {
   "display_name": "Python 3",
   "language": "python",
   "name": "python3"
  },
  "language_info": {
   "codemirror_mode": {
    "name": "ipython",
    "version": 3
   },
   "file_extension": ".py",
   "mimetype": "text/x-python",
   "name": "python",
   "nbconvert_exporter": "python",
   "pygments_lexer": "ipython3",
   "version": "3.7.4"
  }
 },
 "nbformat": 4,
 "nbformat_minor": 4
}
